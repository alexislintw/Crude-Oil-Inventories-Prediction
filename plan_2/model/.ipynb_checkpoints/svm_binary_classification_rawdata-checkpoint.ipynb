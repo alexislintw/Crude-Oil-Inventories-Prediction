{
 "cells": [
  {
   "cell_type": "markdown",
   "metadata": {},
   "source": [
    "- oil (1982/8/20 ~ 今 )\n",
    "- 用6個數值預測隔週存貨漲跌\n",
    "- 前80%做training set (非亂數)\n",
    "- SVM 2元分類\n",
    "- 指標值分2類"
   ]
  },
  {
   "cell_type": "code",
   "execution_count": 1,
   "metadata": {},
   "outputs": [],
   "source": [
    "import numpy as np\n",
    "import pandas as pd\n",
    "import math\n",
    "from time import time\n",
    "from sklearn.model_selection import train_test_split\n",
    "from sklearn.metrics import accuracy_score\n",
    "from sklearn import preprocessing\n",
    "from sklearn.preprocessing import MinMaxScaler\n",
    "from sklearn.model_selection import GridSearchCV\n",
    "from sklearn.svm import SVC"
   ]
  },
  {
   "cell_type": "code",
   "execution_count": 9,
   "metadata": {},
   "outputs": [
    {
     "name": "stdout",
     "output_type": "stream",
     "text": [
      "(500, 7)\n"
     ]
    },
    {
     "name": "stderr",
     "output_type": "stream",
     "text": [
      "/Users/alexis/anaconda3/lib/python3.7/site-packages/sklearn/preprocessing/data.py:323: DataConversionWarning: Data with input dtype int64, float64 were all converted to float64 by MinMaxScaler.\n",
      "  return self.partial_fit(X, y)\n"
     ]
    }
   ],
   "source": [
    "filename = \"../dataset/weekly_supply_estimates_rawdata.csv\"\n",
    "df = pd.read_csv(filename)\n",
    "df = df[-500:]\n",
    "y_all = df['Label_D6-E'].values\n",
    "x_all = df[['D2-B','D2-D','D6-I','D6-J']]\n",
    "#x_all = df.drop(['Date','D2-B','D2-D','D6-I','D6-J','D7-B','Label_D6-E'], 1) #'D6-D','D6-E','D6-S','D6-AB',\n",
    "scaler = MinMaxScaler()\n",
    "x_all = scaler.fit_transform(x_all)\n",
    "print(x_all.shape)"
   ]
  },
  {
   "cell_type": "code",
   "execution_count": 10,
   "metadata": {},
   "outputs": [
    {
     "name": "stdout",
     "output_type": "stream",
     "text": [
      "(400, 7)\n",
      "The best parameters are {'C': 8, 'gamma': 0.125} with a score of 0.67\n"
     ]
    },
    {
     "name": "stderr",
     "output_type": "stream",
     "text": [
      "/Users/alexis/anaconda3/lib/python3.7/site-packages/sklearn/model_selection/_search.py:841: DeprecationWarning: The default of the `iid` parameter will change from True to False in version 0.22 and will be removed in 0.24. This will change numeric results when test-set sizes are unequal.\n",
      "  DeprecationWarning)\n"
     ]
    }
   ],
   "source": [
    "n = int(x_all.shape[0]*0.8)\n",
    "xx_all = x_all[0:n] \n",
    "yy_all = y_all[0:n]\n",
    "xx_all = np.array(xx_all)\n",
    "yy_all = np.array(yy_all)\n",
    "print(xx_all.shape)\n",
    "\n",
    "C_range = []\n",
    "gamma_range = []\n",
    "for i in [-5,-3,-1,1,3,5,7,9,11,13,15]:\n",
    "    C_range.append(pow(2,i))\n",
    "for i in [-15,-13,-11,-9,-7,-5,-3,-1,1,3]:\n",
    "    gamma_range.append(pow(2,i))\n",
    "param_grid = {'C': C_range, 'gamma' : gamma_range}\n",
    "grid_search = GridSearchCV(SVC(kernel='rbf'), param_grid=param_grid, cv=5)\n",
    "grid_search.fit(xx_all, yy_all)\n",
    "print(\"The best parameters are %s with a score of %0.2f\"\n",
    "      % (grid_search.best_params_, grid_search.best_score_))"
   ]
  },
  {
   "cell_type": "code",
   "execution_count": 4,
   "metadata": {},
   "outputs": [],
   "source": [
    "def train_predict(clf, X_train, y_train, X_test, y_test):\n",
    "    \n",
    "    print( \"Training a {} using a training set size of {}. . .\".format(clf.__class__.__name__, len(X_train)) )    \n",
    "    clf.fit(X_train, y_train)\n",
    "    \n",
    "    y_pred_train = clf.predict(X_train)\n",
    "    y_pred_test = clf.predict(X_test)\n",
    "    score_train = accuracy_score(y_train, y_pred_train)\n",
    "    score_test = accuracy_score(y_test, y_pred_test)\n",
    "    \n",
    "    print( \"Accuracy for training set: {:.4f}.\".format(score_train) )\n",
    "    print( \"Accuracy for test set: {:.4f}.\".format(score_test) )\n",
    "    \n",
    "    #more_detail(y_pred_train,y_train)\n",
    "    #more_detail(y_pred_test,y_test)"
   ]
  },
  {
   "cell_type": "code",
   "execution_count": 5,
   "metadata": {},
   "outputs": [],
   "source": [
    "train_size = int(x_all.shape[0]*0.8)\n",
    "X_train = x_all[0:train_size]\n",
    "y_train = y_all[0:train_size]\n",
    "X_test = x_all[train_size:]\n",
    "y_test = y_all[train_size:]\n",
    "X_train, XX_test, y_train, yy_test = train_test_split(X_train, y_train, test_size=0, random_state=42)"
   ]
  },
  {
   "cell_type": "code",
   "execution_count": 6,
   "metadata": {},
   "outputs": [
    {
     "name": "stdout",
     "output_type": "stream",
     "text": [
      "(400, 4)\n",
      "(100, 4)\n"
     ]
    }
   ],
   "source": [
    "print(X_train.shape)\n",
    "print(X_test.shape)"
   ]
  },
  {
   "cell_type": "code",
   "execution_count": 7,
   "metadata": {
    "scrolled": true
   },
   "outputs": [
    {
     "name": "stdout",
     "output_type": "stream",
     "text": [
      "Training a SVC using a training set size of 400. . .\n",
      "Accuracy for training set: 0.6875.\n",
      "Accuracy for test set: 0.6600.\n"
     ]
    }
   ],
   "source": [
    "from sklearn.naive_bayes import GaussianNB\n",
    "from sklearn.tree import DecisionTreeClassifier\n",
    "from sklearn.svm import SVC\n",
    "from sklearn.ensemble import AdaBoostClassifier\n",
    "from sklearn.ensemble import RandomForestClassifier\n",
    "\n",
    "clf = SVC(C=2048,gamma=0.001953125) \n",
    "train_predict(clf, X_train, y_train, X_test, y_test)"
   ]
  },
  {
   "cell_type": "code",
   "execution_count": null,
   "metadata": {},
   "outputs": [],
   "source": []
  }
 ],
 "metadata": {
  "anaconda-cloud": {},
  "kernelspec": {
   "display_name": "Python 3",
   "language": "python",
   "name": "python3"
  },
  "language_info": {
   "codemirror_mode": {
    "name": "ipython",
    "version": 3
   },
   "file_extension": ".py",
   "mimetype": "text/x-python",
   "name": "python",
   "nbconvert_exporter": "python",
   "pygments_lexer": "ipython3",
   "version": "3.7.1"
  }
 },
 "nbformat": 4,
 "nbformat_minor": 1
}
