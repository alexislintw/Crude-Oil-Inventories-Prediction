{
 "cells": [
  {
   "cell_type": "markdown",
   "metadata": {},
   "source": [
    "- 用開高收低5個數值預測隔天的漲跌\n",
    "- 前80%做training set (非亂數)\n",
    "- 有normalize\n",
    "- SVM 二元分類"
   ]
  },
  {
   "cell_type": "code",
   "execution_count": 7,
   "metadata": {},
   "outputs": [],
   "source": [
    "import numpy as np\n",
    "import statistics\n",
    "from time import time\n",
    "#from sklearn.cross_validation import train_test_split\n",
    "from sklearn.model_selection import train_test_split\n",
    "from sklearn.metrics import f1_score\n",
    "from sklearn.metrics import accuracy_score\n",
    "from sklearn import preprocessing"
   ]
  },
  {
   "cell_type": "code",
   "execution_count": 8,
   "metadata": {},
   "outputs": [],
   "source": [
    "def loadData():\n",
    "    filename = \"IXIC.csv\"\n",
    "    with open(filename) as f:\n",
    "        lines = f.readlines()\n",
    "\n",
    "    data = []\n",
    "\n",
    "    for idx,line in enumerate(lines):\n",
    "        if idx > 0:\n",
    "            cols = line.strip().split(\",\")\n",
    "            open1 = float(cols[1])\n",
    "            high1 = float(cols[2])\n",
    "            low1 = float(cols[3])\n",
    "            close1 = float(cols[5])\n",
    "            volumn1 = float(cols[6])\n",
    "            data.append([open1,high1,close1,low1,volumn1])\n",
    "    \n",
    "    return data"
   ]
  },
  {
   "cell_type": "code",
   "execution_count": 9,
   "metadata": {},
   "outputs": [],
   "source": [
    "def preProcessData(data):\n",
    "    \n",
    "    col_num = 5\n",
    "    data = loadData()\n",
    "\n",
    "    next_all = data[1:]\n",
    "    X_all = data[0:-1]\n",
    "\n",
    "    next_all = np.array(next_all).reshape((len(next_all),col_num))\n",
    "    X_all = np.array(X_all).reshape((len(X_all),col_num))\n",
    "\n",
    "    return_all = next_all / X_all - 1\n",
    "    y_all = return_all[:,2] > 0\n",
    "\n",
    "    scaler_x = preprocessing.MinMaxScaler(feature_range=( -1, 1))\n",
    "    #X_all = scaler_x.fit_transform(X_all)\n",
    "\n",
    "    return(X_all,y_all)"
   ]
  },
  {
   "cell_type": "code",
   "execution_count": 10,
   "metadata": {},
   "outputs": [],
   "source": [
    "def more_detail(y_pred,target) :\n",
    "    #找出label為True的\n",
    "    c1 = 0\n",
    "    c2 = 0\n",
    "    win1 = 0\n",
    "    win2 = 0\n",
    "    lost1 = 0\n",
    "    lost2 = 0\n",
    "    for idx,t in enumerate(target):\n",
    "        if t == True:\n",
    "            c1 = c1 + 1\n",
    "            if t == y_pred[idx]:\n",
    "                win1 = win1 + 1\n",
    "            else:\n",
    "                lost1 = lost1 + 1\n",
    "        else:\n",
    "            c2 = c2 + 1\n",
    "            if t == y_pred[idx]:\n",
    "                win2 = win2 + 1\n",
    "            else:\n",
    "                lost2 = lost2 + 1\n",
    "    \n",
    "    print(\"--------------------\")\n",
    "    print(\"True:\",c1,win1,lost1)\n",
    "    print(\"False:\",c2,win2,lost2)\n",
    "    print(\"--------------------\")"
   ]
  },
  {
   "cell_type": "code",
   "execution_count": 11,
   "metadata": {},
   "outputs": [],
   "source": [
    "def train_predict(clf, X_train, y_train, X_test, y_test):\n",
    "    \n",
    "    print( \"Training a {} using a training set size of {}. . .\".format(clf.__class__.__name__, len(X_train)) )    \n",
    "    clf.fit(X_train, y_train)\n",
    "    \n",
    "    y_pred_train = clf.predict(X_train)\n",
    "    y_pred_test = clf.predict(X_test)\n",
    "    score_train = accuracy_score(y_train, y_pred_train)\n",
    "    score_test = accuracy_score(y_test, y_pred_test)\n",
    "    \n",
    "    print( \"Accuracy for training set: {:.4f}.\".format(score_train) )\n",
    "    print( \"Accuracy for test set: {:.4f}.\".format(score_test) )\n",
    "    \n",
    "    more_detail(y_pred_train,y_train)\n",
    "    more_detail(y_pred_test,y_test)"
   ]
  },
  {
   "cell_type": "code",
   "execution_count": 12,
   "metadata": {},
   "outputs": [
    {
     "name": "stdout",
     "output_type": "stream",
     "text": [
      "8624\n",
      "8624\n",
      "4777 3847\n",
      "True: 55.391929499072354\n"
     ]
    }
   ],
   "source": [
    "#拆資料\n",
    "test_size = 0.2\n",
    "\n",
    "data = loadData()\n",
    "X_all, y_all = preProcessData(data) \n",
    "\n",
    "print(len(X_all))\n",
    "print(len(y_all))\n",
    "\n",
    "# label資料佔比\n",
    "c1 = 0\n",
    "c2 = 0\n",
    "for i in y_all:\n",
    "    if i == True:\n",
    "        c1 = c1 +1\n",
    "    elif i == False:\n",
    "        c2 = c2 +1\n",
    "        \n",
    "print(c1,c2)\n",
    "print(\"True:\",c1/len(X_all)*100)\n",
    "\n",
    "train_size = int(len(X_all)*(1-test_size))\n",
    "X_train = X_all[0:train_size] \n",
    "X_test = X_all[train_size:]\n",
    "y_train = y_all[0:train_size]\n",
    "y_test = y_all[train_size:]\n",
    "X_train, X_test, y_train, y_test = train_test_split(X_all, y_all, test_size=test_size, random_state=42)"
   ]
  },
  {
   "cell_type": "code",
   "execution_count": 13,
   "metadata": {},
   "outputs": [
    {
     "data": {
      "image/png": "[encoded data removed]",
      "text/plain": [
       "<matplotlib.figure.Figure at 0x11b6a3b38>"
      ]
     },
     "metadata": {
      "needs_background": "light"
     },
     "output_type": "display_data"
    }
   ],
   "source": [
    "import matplotlib.pyplot as plt\n",
    "%matplotlib inline\n",
    "\n",
    "plt.plot(data)\n",
    "plt.show()"
   ]
  },
  {
   "cell_type": "code",
   "execution_count": 14,
   "metadata": {
    "scrolled": true
   },
   "outputs": [
    {
     "name": "stdout",
     "output_type": "stream",
     "text": [
      "Training a GaussianNB using a training set size of 6899. . .\n",
      "Accuracy for training set: 0.5521.\n",
      "Accuracy for test set: 0.5664.\n",
      "--------------------\n",
      "True: 3804 3789 15\n",
      "False: 3095 20 3075\n",
      "--------------------\n",
      "--------------------\n",
      "True: 973 968 5\n",
      "False: 752 9 743\n",
      "--------------------\n",
      "\n",
      "\n",
      "Training a DecisionTreeClassifier using a training set size of 6899. . .\n",
      "Accuracy for training set: 1.0000.\n",
      "Accuracy for test set: 0.5165.\n",
      "--------------------\n",
      "True: 3804 3804 0\n",
      "False: 3095 3095 0\n",
      "--------------------\n",
      "--------------------\n",
      "True: 973 577 396\n",
      "False: 752 314 438\n",
      "--------------------\n",
      "\n",
      "\n",
      "Training a SVC using a training set size of 6899. . .\n"
     ]
    },
    {
     "name": "stderr",
     "output_type": "stream",
     "text": [
      "/anaconda3/lib/python3.6/site-packages/sklearn/svm/base.py:196: FutureWarning: The default value of gamma will change from 'auto' to 'scale' in version 0.22 to account better for unscaled features. Set gamma explicitly to 'auto' or 'scale' to avoid this warning.\n",
      "  \"avoid this warning.\", FutureWarning)\n"
     ]
    },
    {
     "name": "stdout",
     "output_type": "stream",
     "text": [
      "Accuracy for training set: 1.0000.\n",
      "Accuracy for test set: 0.5641.\n",
      "--------------------\n",
      "True: 3804 3804 0\n",
      "False: 3095 3095 0\n",
      "--------------------\n",
      "--------------------\n",
      "True: 973 973 0\n",
      "False: 752 0 752\n",
      "--------------------\n",
      "\n",
      "\n",
      "Training a AdaBoostClassifier using a training set size of 6899. . .\n",
      "Accuracy for training set: 0.5623.\n",
      "Accuracy for test set: 0.5612.\n",
      "--------------------\n",
      "True: 3804 3659 145\n",
      "False: 3095 220 2875\n",
      "--------------------\n",
      "--------------------\n",
      "True: 973 924 49\n",
      "False: 752 44 708\n",
      "--------------------\n",
      "\n",
      "\n",
      "Training a RandomForestClassifier using a training set size of 6899. . .\n",
      "Accuracy for training set: 0.5969.\n",
      "Accuracy for test set: 0.5670.\n",
      "--------------------\n",
      "True: 3804 3803 1\n",
      "False: 3095 315 2780\n",
      "--------------------\n",
      "--------------------\n",
      "True: 973 948 25\n",
      "False: 752 30 722\n",
      "--------------------\n",
      "\n",
      "\n"
     ]
    }
   ],
   "source": [
    "from sklearn.naive_bayes import GaussianNB\n",
    "from sklearn.tree import DecisionTreeClassifier\n",
    "from sklearn.svm import SVC\n",
    "from sklearn.ensemble import AdaBoostClassifier\n",
    "from sklearn.ensemble import RandomForestClassifier\n",
    "\n",
    "rand = 42\n",
    "\n",
    "clf_A = GaussianNB()\n",
    "clf_B = DecisionTreeClassifier()\n",
    "clf_C = SVC(random_state=rand,probability=False)\n",
    "clf_D = AdaBoostClassifier()\n",
    "clf_E = RandomForestClassifier(criterion='entropy',n_estimators=300,max_depth=9, random_state=0)\n",
    "\n",
    "for clf in [clf_A,clf_B,clf_C,clf_D,clf_E]:\n",
    "    train_predict(clf, X_train, y_train, X_test, y_test)\n",
    "    print( '\\n' )"
   ]
  },
  {
   "cell_type": "code",
   "execution_count": null,
   "metadata": {},
   "outputs": [],
   "source": []
  },
  {
   "cell_type": "code",
   "execution_count": null,
   "metadata": {},
   "outputs": [],
   "source": []
  }
 ],
 "metadata": {
  "anaconda-cloud": {},
  "kernelspec": {
   "display_name": "Python 3",
   "language": "python",
   "name": "python3"
  },
  "language_info": {
   "codemirror_mode": {
    "name": "ipython",
    "version": 3
   },
   "file_extension": ".py",
   "mimetype": "text/x-python",
   "name": "python",
   "nbconvert_exporter": "python",
   "pygments_lexer": "ipython3",
   "version": "3.7.1"
  }
 },
 "nbformat": 4,
 "nbformat_minor": 1
}
