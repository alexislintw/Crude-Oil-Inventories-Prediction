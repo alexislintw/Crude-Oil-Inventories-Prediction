{
 "cells": [
  {
   "cell_type": "markdown",
   "metadata": {},
   "source": [
    "# 美國原油庫存量增減方向預測\n",
    "### 參數\n",
    "- 資料集(1982/8/20 ~ 今 )\n",
    "- 只採用最新500筆\n",
    "- 用x(6)個數值預測隔週存貨(D6-E)漲跌\n",
    "- 前80%做training set (非亂數)\n",
    "- 以SVM做二元分類"
   ]
  },
  {
   "cell_type": "code",
   "execution_count": 1,
   "metadata": {},
   "outputs": [],
   "source": [
    "import numpy as np\n",
    "import pandas as pd\n",
    "import math\n",
    "from time import time\n",
    "from sklearn.model_selection import train_test_split\n",
    "from sklearn.metrics import accuracy_score\n",
    "from sklearn import preprocessing\n",
    "from sklearn.preprocessing import MinMaxScaler\n",
    "from sklearn.model_selection import GridSearchCV\n",
    "from sklearn.svm import SVC"
   ]
  },
  {
   "cell_type": "code",
   "execution_count": 14,
   "metadata": {},
   "outputs": [
    {
     "name": "stdout",
     "output_type": "stream",
     "text": [
      "(500, 4)\n"
     ]
    }
   ],
   "source": [
    "#filename = \"../dataset/weekly_supply_estimates_encoding.csv\"\n",
    "#filename = \"../dataset/weekly_supply_estimates_rawdata.csv\"\n",
    "#filename = \"../dataset/weekly_supply_estimates_2nd.csv\"\n",
    "filename = \"../dataset/PET_SUM_SNDW_DCUS_NUS_W.xls\"\n",
    "\n",
    "#df = pd.read_csv(filename)\n",
    "df = pd.read_excel('File.xlsx', sheetname='Sheet1')\n",
    "df = df[-500:]\n",
    "y_all = df['Label_D6-E'].values\n",
    "x = df['Date']\n",
    "x_all = df[['D2-B','D6-I','D6-AB','D7-B']]\n",
    "x_all = np.array(x_all)\n",
    "#x_all = preprocessing.scale(x_all)\n",
    "#x_all = df.drop(['Date','D2-B','D2-D','D6-I','D6-J','D7-B','Label_D6-E'], 1) #'D6-D','D6-E','D6-S','D6-AB',\n",
    "scaler = MinMaxScaler()\n",
    "#x_all = scaler.fit_transform(x_all)\n",
    "print(x_all.shape)"
   ]
  },
  {
   "cell_type": "code",
   "execution_count": null,
   "metadata": {},
   "outputs": [],
   "source": [
    "%matplotlib inline\n",
    "import matplotlib.pyplot as plt\n",
    "plt.plot(x,x_all[:,1],label='D6-E')\n",
    "plt.plot(x,x_all[:,0],label='-')\n",
    "plt.legend()\n",
    "plt.xlabel('Week Number of Start')\n",
    "plt.ylabel('Accuracy')\n",
    "plt.show()"
   ]
  },
  {
   "cell_type": "code",
   "execution_count": 15,
   "metadata": {},
   "outputs": [
    {
     "name": "stdout",
     "output_type": "stream",
     "text": [
      "(400, 4)\n",
      "The best parameters are {'C': 8, 'gamma': 3.0517578125e-05} with a score of 0.59\n"
     ]
    }
   ],
   "source": [
    "n = int(x_all.shape[0]*0.8)\n",
    "xx_all = x_all[0:n] \n",
    "yy_all = y_all[0:n]\n",
    "xx_all = np.array(xx_all)\n",
    "yy_all = np.array(yy_all)\n",
    "print(xx_all.shape)\n",
    "\n",
    "C_range = []\n",
    "gamma_range = []\n",
    "for i in [-5,-3,-1,1,3,5,7,9,11,13,15]:\n",
    "    C_range.append(pow(2,i))\n",
    "for i in [-15,-13,-11,-9,-7,-5,-3,-1,1,3]:\n",
    "    gamma_range.append(pow(2,i))\n",
    "param_grid = {'C': C_range, 'gamma' : gamma_range}\n",
    "grid_search = GridSearchCV(SVC(kernel='rbf'), param_grid=param_grid, cv=5)\n",
    "grid_search.fit(xx_all, yy_all)\n",
    "print(\"The best parameters are %s with a score of %0.2f\"\n",
    "      % (grid_search.best_params_, grid_search.best_score_))"
   ]
  },
  {
   "cell_type": "code",
   "execution_count": null,
   "metadata": {},
   "outputs": [],
   "source": [
    "def train_predict(clf, X_train, y_train, X_test, y_test):\n",
    "    \n",
    "    print( \"Training a {} using a training set size of {}. . .\".format(clf.__class__.__name__, len(X_train)) )    \n",
    "    clf.fit(X_train, y_train)\n",
    "    \n",
    "    y_pred_train = clf.predict(X_train)\n",
    "    y_pred_test = clf.predict(X_test)\n",
    "    score_train = accuracy_score(y_train, y_pred_train)\n",
    "    score_test = accuracy_score(y_test, y_pred_test)\n",
    "    \n",
    "    print( \"Accuracy for training set: {:.4f}.\".format(score_train) )\n",
    "    print( \"Accuracy for test set: {:.4f}.\".format(score_test) )\n",
    "    \n",
    "    #more_detail(y_pred_train,y_train)\n",
    "    #more_detail(y_pred_test,y_test)"
   ]
  },
  {
   "cell_type": "code",
   "execution_count": null,
   "metadata": {},
   "outputs": [],
   "source": [
    "train_size = int(x_all.shape[0]*0.8)\n",
    "X_train = x_all[0:train_size]\n",
    "y_train = y_all[0:train_size]\n",
    "X_test = x_all[train_size:]\n",
    "y_test = y_all[train_size:]\n",
    "X_train, XX_test, y_train, yy_test = train_test_split(X_train, y_train, test_size=0, random_state=42)"
   ]
  },
  {
   "cell_type": "code",
   "execution_count": null,
   "metadata": {},
   "outputs": [],
   "source": [
    "print(X_train.shape)\n",
    "print(X_test.shape)"
   ]
  },
  {
   "cell_type": "code",
   "execution_count": null,
   "metadata": {
    "scrolled": true
   },
   "outputs": [],
   "source": [
    "from sklearn.naive_bayes import GaussianNB\n",
    "from sklearn.tree import DecisionTreeClassifier\n",
    "from sklearn.svm import SVC\n",
    "from sklearn.ensemble import AdaBoostClassifier\n",
    "from sklearn.ensemble import RandomForestClassifier\n",
    "\n",
    "clf = SVC(C=2048,gamma=0.001953125) \n",
    "train_predict(clf, X_train, y_train, X_test, y_test)"
   ]
  },
  {
   "cell_type": "code",
   "execution_count": null,
   "metadata": {},
   "outputs": [],
   "source": []
  }
 ],
 "metadata": {
  "anaconda-cloud": {},
  "kernelspec": {
   "display_name": "Python 3",
   "language": "python",
   "name": "python3"
  },
  "language_info": {
   "codemirror_mode": {
    "name": "ipython",
    "version": 3
   },
   "file_extension": ".py",
   "mimetype": "text/x-python",
   "name": "python",
   "nbconvert_exporter": "python",
   "pygments_lexer": "ipython3",
   "version": "3.7.1"
  }
 },
 "nbformat": 4,
 "nbformat_minor": 1
}
