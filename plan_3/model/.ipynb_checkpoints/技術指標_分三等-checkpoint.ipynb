{
 "cells": [
  {
   "cell_type": "code",
   "execution_count": 1,
   "metadata": {},
   "outputs": [],
   "source": [
    "import numpy as np\n",
    "import talib\n",
    "import pandas as pd\n",
    "#import matplotlib.pyplot as plt"
   ]
  },
  {
   "cell_type": "code",
   "execution_count": null,
   "metadata": {},
   "outputs": [],
   "source": [
    "df = pd.read_csv(\"../dataset/^TWII.csv\")\n",
    "open_ = df['Open'].values\n",
    "high = df['High'].values\n",
    "low = df['Low'].values\n",
    "close = df['Adj Close'].values"
   ]
  },
  {
   "cell_type": "code",
   "execution_count": null,
   "metadata": {},
   "outputs": [],
   "source": [
    "print(close[0:200])"
   ]
  },
  {
   "cell_type": "code",
   "execution_count": null,
   "metadata": {},
   "outputs": [],
   "source": [
    "n = 20\n",
    "my_SMA = talib.SMA(close,timeperiod=n)\n",
    "my_ROC = talib.ROC(close,timeperiod=n)\n",
    "my_RSI = talib.RSI(close,timeperiod=n)\n",
    "k,d = talib.STOCH(high=high,low=low,close=close,fastk_period=9,\n",
    "                      slowk_period=3,\n",
    "                      slowk_matype=0,\n",
    "                      slowd_period=3,\n",
    "                      slowd_matype=0)"
   ]
  },
  {
   "cell_type": "code",
   "execution_count": null,
   "metadata": {},
   "outputs": [],
   "source": [
    "print(my_SMA[21:100])"
   ]
  },
  {
   "cell_type": "code",
   "execution_count": 3,
   "metadata": {},
   "outputs": [],
   "source": [
    "filename = \"../dataset/^TWII.csv\"\n",
    "with open(filename) as f:\n",
    "    lines = f.readlines()\n",
    "\n",
    "data = []\n",
    "for idx,line in enumerate(lines):\n",
    "    if idx > 0 :\n",
    "        cols = line.strip().split(\",\")\n",
    "        #open1 = float(cols[1])\n",
    "        if cols[1] != 'null' and cols[2] != 'null' and cols[3] != 'null' and cols[5] != 'null' :\n",
    "            open1 = float(cols[1])\n",
    "            high1 = float(cols[2])\n",
    "            low1 = float(cols[3])\n",
    "            close1 = float(cols[5])\n",
    "            #volumn1 = float(cols[6])\n",
    "            data.append([open1,high1,low1,close1])\n",
    "data = np.array(data)"
   ]
  },
  {
   "cell_type": "code",
   "execution_count": 4,
   "metadata": {},
   "outputs": [
    {
     "name": "stdout",
     "output_type": "stream",
     "text": [
      "(5325, 4)\n"
     ]
    }
   ],
   "source": [
    "print(data.shape)"
   ]
  },
  {
   "cell_type": "code",
   "execution_count": 5,
   "metadata": {},
   "outputs": [],
   "source": [
    "high = data[:,1]\n",
    "low = data[:,2]\n",
    "close = data[:,3]"
   ]
  },
  {
   "cell_type": "code",
   "execution_count": 6,
   "metadata": {},
   "outputs": [
    {
     "name": "stdout",
     "output_type": "stream",
     "text": [
      "[ 8996.686523  9027.59668   9192.536133  9322.805664  9305.235352\n",
      "  9362.645508  9429.706055  9394.595703  9593.503906  9555.945313\n",
      "  9544.524414  9571.763672  9677.364258  9833.732422  9550.365234\n",
      "  9381.025391  9632.383789  9808.873047  9923.011719  9892.302734\n",
      "  9942.751953 10066.311523 10001.521484 10065.72168   9919.641602\n",
      "  9861.432617  9840.842773  9923.801758  9897.232422  9807.703125\n",
      "  9556.084961  9632.303711  9770.762695  9712.413086  9855.123047\n",
      " 10025.091797 10020.511719 10011.431641 10116.801758 10050.631836\n",
      "  9827.453125  9504.955078  9211.635742  9460.724609  9147.81543\n",
      "  9290.355469  9149.255859  9079.326172  9145.145508  9115.06543\n",
      "  9155.206055  8931.986328  9087.515625  9141.295898  9243.675781\n",
      "  9220.956055  9073.735352  8993.986328  8791.777344  8718.967773\n",
      "  8708.797852  8694.987305  8504.62793   8537.147461  8392.557617\n",
      "  8221.317383  8255.788086  8461.837891  8463.12793   8429.317383\n",
      "  8262.368164  7997.779297  7832.120605  7316.751953  7734.020996\n",
      "  7692.441406  7824.980469  7719.01123   7662.500977  7209.982422\n",
      "  7089.533691  7313.37207   7646.321289  7785.291016  7864.19043\n",
      "  8076.739258  7860.060059  7767.111328  7712.131348  7554.911133\n",
      "  7482.89209   7690.51123   7644.941406  7705.371094  7693.26123\n",
      "  7773.321289  7756.221191  7759.941406  7698.211426  7762.121094\n",
      "  7797.161133  7400.612305  7679.500977  7902.479492  8050.099121\n",
      "  8166.839355  8402.137695  8333.458008  8503.517578  8270.547852\n",
      "  8398.237305  8241.458008  8193.618164  8347.167969  8255.017578\n",
      "  8092.549316  8103.999023  8038.279297  8075.019043  8132.469238\n",
      "  8076.619141  8145.739258  8187.239258  8028.599121  7966.149902\n",
      "  7835.530762  7778.131348  7737.171387  7375.112305  7513.211914\n",
      "  7798.221191  7770.741211  7799.071289  7847.59082   7907.649902\n",
      "  8098.619141  8085.439453  8405.078125  8514.147461  8470.578125\n",
      "  8621.9375    8544.107422  8634.578125  8567.62793   8713.387695\n",
      "  8799.987305  8706.427734  8708.257813  8782.057617  8837.307617\n",
      "  8978.476563  9037.447266  9146.96582   9066.425781  9027.066406\n",
      "  9229.15625   9202.525391  9277.055664  9211.795898  8977.506836\n",
      "  8765.288086  8847.618164  8887.327148  8897.236328  9030.516602\n",
      "  9056.335938  9055.475586  9065.265625  9045.516602  8952.626953\n",
      "  8859.37793   8904.197266  8757.557617  8806.817383  9040.716797\n",
      "  9014.136719  9095.795898  9088.925781  9091.125977  9041.466797\n",
      "  9013.066406  9134.025391  9266.645508  9263.40625   9090.275391\n",
      "  9053.986328  8863.078125  8764.547852  8807.277344  8780.177734\n",
      "  8619.458008  8508.527344  8440.167969  8636.477539  8613.927734\n",
      "  8636.078125  8471.587891  8434.637695  8348.317383  8304.177734]\n"
     ]
    }
   ],
   "source": [
    "print(close[:200])"
   ]
  },
  {
   "cell_type": "code",
   "execution_count": 7,
   "metadata": {},
   "outputs": [],
   "source": [
    "trend = []\n",
    "for idx, c in enumerate(close):\n",
    "    if idx < len(close) - 1:\n",
    "        if close[idx+1] > c:\n",
    "            trend.append(1)\n",
    "        else :\n",
    "            trend.append(0)\n",
    "    else :\n",
    "        trend.append(-1)"
   ]
  },
  {
   "cell_type": "code",
   "execution_count": null,
   "metadata": {},
   "outputs": [],
   "source": [
    "RSI1 = talib.RSI(close,timeperiod=20)\n",
    "RSI2 = talib.RSI(close,timeperiod=60)\n",
    "RSI3 = talib.RSI(close,timeperiod=120)\n",
    "RSI4 = talib.RSI(close,timeperiod=200)"
   ]
  },
  {
   "cell_type": "code",
   "execution_count": 30,
   "metadata": {},
   "outputs": [],
   "source": [
    "n = 20\n",
    "SMA = talib.SMA(close,timeperiod=n)\n",
    "ROC = talib.ROC(close,timeperiod=n)\n",
    "RSI = talib.RSI(close,timeperiod=n)\n",
    "K,D = talib.STOCH(high=high,low=low,close=close,fastk_period=9,\n",
    "                      slowk_period=3,\n",
    "                      slowk_matype=0,\n",
    "                      slowd_period=3,\n",
    "                      slowd_matype=0)"
   ]
  },
  {
   "cell_type": "code",
   "execution_count": 31,
   "metadata": {},
   "outputs": [
    {
     "name": "stdout",
     "output_type": "stream",
     "text": [
      "(5325,)\n"
     ]
    }
   ],
   "source": [
    "print(np.array(SMA).shape)"
   ]
  },
  {
   "cell_type": "code",
   "execution_count": 32,
   "metadata": {},
   "outputs": [
    {
     "name": "stdout",
     "output_type": "stream",
     "text": [
      "3636.7053100500075\n",
      "11059.726464800002\n",
      "-27.94930510991008\n",
      "31.088730005174227\n",
      "13.99487871006762\n",
      "83.69041649989043\n"
     ]
    }
   ],
   "source": [
    "print(np.min(SMA[20:]))\n",
    "print(np.max(SMA[20:]))\n",
    "\n",
    "print(np.min(ROC[20:]))\n",
    "print(np.max(ROC[20:]))\n",
    "\n",
    "print(np.min(RSI[20:]))\n",
    "print(np.max(RSI[20:]))"
   ]
  },
  {
   "cell_type": "code",
   "execution_count": 33,
   "metadata": {},
   "outputs": [],
   "source": [
    "SMA_ = []\n",
    "ROC_ = []\n",
    "RSI_ = []\n",
    "for v in SMA[20:]:\n",
    "    if v < 6000:\n",
    "        SMA_.append([1,0,0])\n",
    "    elif v >= 6000 and v <= 9000:\n",
    "        SMA_.append([0,1,0])\n",
    "    elif v > 9000 :\n",
    "        SMA_.append([0,0,1])\n",
    "        \n",
    "\n",
    "for v in ROC[20:]:\n",
    "    if v < -10:\n",
    "        ROC_.append([1,0,0])\n",
    "    elif v >= -10 and v <= 10:\n",
    "        ROC_.append([0,1,0])\n",
    "    elif v > 10 :\n",
    "        ROC_.append([0,0,1])\n",
    "        \n",
    "for v in RSI[20:]:\n",
    "    if v < 33:\n",
    "        RSI_.append([1,0,0])\n",
    "    elif v >= 33 and v <= 63:\n",
    "        RSI_.append([0,1,0])\n",
    "    elif v > 63 :\n",
    "        RSI_.append([0,0,1])"
   ]
  },
  {
   "cell_type": "code",
   "execution_count": 34,
   "metadata": {},
   "outputs": [
    {
     "name": "stdout",
     "output_type": "stream",
     "text": [
      "(5305, 3)\n",
      "(5305, 3)\n",
      "(5305, 3)\n"
     ]
    }
   ],
   "source": [
    "print(np.array(SMA_).shape)\n",
    "print(np.array(ROC_).shape)\n",
    "print(np.array(RSI_).shape)"
   ]
  },
  {
   "cell_type": "code",
   "execution_count": 41,
   "metadata": {},
   "outputs": [
    {
     "name": "stdout",
     "output_type": "stream",
     "text": [
      "(5305, 9)\n"
     ]
    }
   ],
   "source": [
    "data2 = []\n",
    "for i in range(len(SMA_)):\n",
    "    v = SMA_[i] + ROC_[i] + RSI_[i]\n",
    "    data2.append(v)\n",
    "\n",
    "print(np.array(data2).shape)"
   ]
  },
  {
   "cell_type": "code",
   "execution_count": 42,
   "metadata": {},
   "outputs": [
    {
     "ename": "TypeError",
     "evalue": "can only concatenate str (not \"int\") to str",
     "output_type": "error",
     "traceback": [
      "\u001b[0;31m---------------------------------------------------------------------------\u001b[0m",
      "\u001b[0;31mTypeError\u001b[0m                                 Traceback (most recent call last)",
      "\u001b[0;32m<ipython-input-42-2eaef5d6faa2>\u001b[0m in \u001b[0;36m<module>\u001b[0;34m\u001b[0m\n\u001b[1;32m      3\u001b[0m         \u001b[0mline\u001b[0m \u001b[0;34m=\u001b[0m \u001b[0;34m''\u001b[0m\u001b[0;34m\u001b[0m\u001b[0;34m\u001b[0m\u001b[0m\n\u001b[1;32m      4\u001b[0m         \u001b[0;32mfor\u001b[0m \u001b[0mv\u001b[0m \u001b[0;32min\u001b[0m \u001b[0mrow\u001b[0m\u001b[0;34m:\u001b[0m\u001b[0;34m\u001b[0m\u001b[0;34m\u001b[0m\u001b[0m\n\u001b[0;32m----> 5\u001b[0;31m             \u001b[0mline\u001b[0m \u001b[0;34m=\u001b[0m \u001b[0mline\u001b[0m \u001b[0;34m+\u001b[0m \u001b[0mv\u001b[0m \u001b[0;34m+\u001b[0m \u001b[0;34m\",\"\u001b[0m\u001b[0;34m\u001b[0m\u001b[0;34m\u001b[0m\u001b[0m\n\u001b[0m\u001b[1;32m      6\u001b[0m         \u001b[0mline\u001b[0m \u001b[0;34m=\u001b[0m \u001b[0mline\u001b[0m \u001b[0;34m+\u001b[0m \u001b[0;34m'\\n'\u001b[0m\u001b[0;34m\u001b[0m\u001b[0;34m\u001b[0m\u001b[0m\n\u001b[1;32m      7\u001b[0m         \u001b[0mfile\u001b[0m\u001b[0;34m.\u001b[0m\u001b[0mwrite\u001b[0m\u001b[0;34m(\u001b[0m\u001b[0mline\u001b[0m\u001b[0;34m)\u001b[0m\u001b[0;34m\u001b[0m\u001b[0;34m\u001b[0m\u001b[0m\n",
      "\u001b[0;31mTypeError\u001b[0m: can only concatenate str (not \"int\") to str"
     ]
    }
   ],
   "source": [
    "with open('../dataset/TWII_3indicators_3segments.csv','w') as file:\n",
    "    for row in data2:\n",
    "        line = ''\n",
    "        for v in row:\n",
    "            line = line + str(v) + \",\"\n",
    "        line = line + '\\n'\n",
    "        file.write(line)\n",
    "file.close()"
   ]
  },
  {
   "cell_type": "code",
   "execution_count": null,
   "metadata": {},
   "outputs": [],
   "source": []
  }
 ],
 "metadata": {
  "kernelspec": {
   "display_name": "Python 3",
   "language": "python",
   "name": "python3"
  },
  "language_info": {
   "codemirror_mode": {
    "name": "ipython",
    "version": 3
   },
   "file_extension": ".py",
   "mimetype": "text/x-python",
   "name": "python",
   "nbconvert_exporter": "python",
   "pygments_lexer": "ipython3",
   "version": "3.7.1"
  }
 },
 "nbformat": 4,
 "nbformat_minor": 2
}
