{
 "cells": [
  {
   "cell_type": "markdown",
   "metadata": {},
   "source": [
    "- ^TWII (1997/7/2 ~ 今 )\n",
    "- 用5個技術指標預測隔天的漲跌\n",
    "- 前80%做training set (非亂數)\n",
    "- SVM 二元分類\n",
    "- 指標值分三類"
   ]
  },
  {
   "cell_type": "code",
   "execution_count": 16,
   "metadata": {},
   "outputs": [],
   "source": [
    "import numpy as np\n",
    "import pandas as pd\n",
    "from time import time\n",
    "from sklearn.model_selection import train_test_split\n",
    "from sklearn.metrics import f1_score\n",
    "from sklearn.metrics import accuracy_score\n",
    "from sklearn import preprocessing"
   ]
  },
  {
   "cell_type": "code",
   "execution_count": 28,
   "metadata": {},
   "outputs": [
    {
     "ename": "SyntaxError",
     "evalue": "invalid syntax (<ipython-input-28-7dd877a8c7e7>, line 10)",
     "output_type": "error",
     "traceback": [
      "\u001b[0;36m  File \u001b[0;32m\"<ipython-input-28-7dd877a8c7e7>\"\u001b[0;36m, line \u001b[0;32m10\u001b[0m\n\u001b[0;31m    y_all.append(float(cols[1]))\u001b[0m\n\u001b[0m        ^\u001b[0m\n\u001b[0;31mSyntaxError\u001b[0m\u001b[0;31m:\u001b[0m invalid syntax\n"
     ]
    }
   ],
   "source": [
    "filename = \"../dataset/TWII_4indicator_2class.csv\"\n",
    "with open(filename) as f:\n",
    "    lines = f.readlines()\n",
    "\n",
    "x_all = []\n",
    "y_all = []\n",
    "for idx,line in enumerate(lines):\n",
    "    cols = line.strip().split(\",\")\n",
    "    x_all.append([float(cols[2]),float(cols[3]),float(cols[4]),float(cols[5])])\n",
    "    y_all.append(float(cols[1]))\n",
    "    \n",
    "#y_all = [float(y) for y in y_all]\n",
    "x_all = np.array(x_all)\n",
    "y_all = np.array(y_all)\n",
    "print(x_all.shape)\n",
    "print(y_all.shape)\n",
    "print(y_all[0:10])"
   ]
  },
  {
   "cell_type": "code",
   "execution_count": 19,
   "metadata": {},
   "outputs": [],
   "source": [
    "def train_predict(clf, X_train, y_train, X_test, y_test):\n",
    "    \n",
    "    print( \"Training a {} using a training set size of {}. . .\".format(clf.__class__.__name__, len(X_train)) )    \n",
    "    clf.fit(X_train, y_train)\n",
    "    \n",
    "    y_pred_train = clf.predict(X_train)\n",
    "    y_pred_test = clf.predict(X_test)\n",
    "    score_train = accuracy_score(y_train, y_pred_train)\n",
    "    score_test = accuracy_score(y_test, y_pred_test)\n",
    "    \n",
    "    print( \"Accuracy for training set: {:.4f}.\".format(score_train) )\n",
    "    print( \"Accuracy for test set: {:.4f}.\".format(score_test) )\n",
    "    \n",
    "    #more_detail(y_pred_train,y_train)\n",
    "    #more_detail(y_pred_test,y_test)"
   ]
  },
  {
   "cell_type": "code",
   "execution_count": 20,
   "metadata": {},
   "outputs": [
    {
     "name": "stdout",
     "output_type": "stream",
     "text": [
      "(5305, 4)\n",
      "(5305,)\n"
     ]
    }
   ],
   "source": [
    "#拆資料\n",
    "test_size = 0.2\n",
    "\n",
    "print(x_all.shape)\n",
    "print(y_all.shape)\n",
    "\n",
    "train_size = int(len(x_all)*(1-test_size))\n",
    "X_train = x_all[0:train_size] \n",
    "X_test = x_all[train_size:]\n",
    "y_train = y_all[0:train_size]\n",
    "y_test = y_all[train_size:]\n",
    "X_train, XX_test, y_train, yy_test = train_test_split(X_train, y_train, test_size=0, random_state=42)"
   ]
  },
  {
   "cell_type": "code",
   "execution_count": 21,
   "metadata": {},
   "outputs": [
    {
     "name": "stdout",
     "output_type": "stream",
     "text": [
      "(4244, 4)\n",
      "(1061, 4)\n"
     ]
    }
   ],
   "source": [
    "print(X_train.shape)\n",
    "print(X_test.shape)"
   ]
  },
  {
   "cell_type": "code",
   "execution_count": 22,
   "metadata": {
    "scrolled": true
   },
   "outputs": [
    {
     "name": "stdout",
     "output_type": "stream",
     "text": [
      "Training a SVC using a training set size of 4244. . .\n"
     ]
    },
    {
     "name": "stderr",
     "output_type": "stream",
     "text": [
      "/Users/alexis/anaconda3/lib/python3.7/site-packages/sklearn/svm/base.py:196: FutureWarning: The default value of gamma will change from 'auto' to 'scale' in version 0.22 to account better for unscaled features. Set gamma explicitly to 'auto' or 'scale' to avoid this warning.\n",
      "  \"avoid this warning.\", FutureWarning)\n"
     ]
    },
    {
     "name": "stdout",
     "output_type": "stream",
     "text": [
      "Accuracy for training set: 1.0000.\n",
      "Accuracy for test set: 0.5353.\n",
      "\n",
      "\n",
      "Training a AdaBoostClassifier using a training set size of 4244. . .\n",
      "Accuracy for training set: 0.5862.\n",
      "Accuracy for test set: 0.4901.\n",
      "\n",
      "\n",
      "Training a RandomForestClassifier using a training set size of 4244. . .\n",
      "Accuracy for training set: 0.7217.\n",
      "Accuracy for test set: 0.4882.\n",
      "\n",
      "\n"
     ]
    }
   ],
   "source": [
    "from sklearn.naive_bayes import GaussianNB\n",
    "from sklearn.tree import DecisionTreeClassifier\n",
    "from sklearn.svm import SVC\n",
    "from sklearn.ensemble import AdaBoostClassifier\n",
    "from sklearn.ensemble import RandomForestClassifier\n",
    "\n",
    "rand = 42\n",
    "\n",
    "clf_A = GaussianNB()\n",
    "clf_B = DecisionTreeClassifier()\n",
    "clf_C = SVC() \n",
    "clf_D = AdaBoostClassifier()\n",
    "clf_E = RandomForestClassifier(criterion='entropy',n_estimators=300,max_depth=9, random_state=0)\n",
    "\n",
    "for clf in [clf_C,clf_D,clf_E]:\n",
    "    train_predict(clf, X_train, y_train, X_test, y_test)\n",
    "    print( '\\n' )"
   ]
  },
  {
   "cell_type": "code",
   "execution_count": null,
   "metadata": {},
   "outputs": [],
   "source": []
  }
 ],
 "metadata": {
  "anaconda-cloud": {},
  "kernelspec": {
   "display_name": "Python 3",
   "language": "python",
   "name": "python3"
  },
  "language_info": {
   "codemirror_mode": {
    "name": "ipython",
    "version": 3
   },
   "file_extension": ".py",
   "mimetype": "text/x-python",
   "name": "python",
   "nbconvert_exporter": "python",
   "pygments_lexer": "ipython3",
   "version": "3.7.1"
  }
 },
 "nbformat": 4,
 "nbformat_minor": 1
}
