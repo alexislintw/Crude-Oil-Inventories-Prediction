{
 "cells": [
  {
   "cell_type": "markdown",
   "metadata": {},
   "source": [
    "- ^IXIC 從1984/10/11開始有開高收低量的正確資料\n",
    "- 用開高收低5個數值預測隔天的漲跌\n",
    "- 前80%做training set (非亂數)\n",
    "- 有normalize\n",
    "- SVM 三元分類"
   ]
  },
  {
   "cell_type": "code",
   "execution_count": 46,
   "metadata": {},
   "outputs": [],
   "source": [
    "import numpy as np\n",
    "import statistics\n",
    "from time import time\n",
    "#from sklearn.cross_validation import train_test_split\n",
    "from sklearn.model_selection import train_test_split\n",
    "from sklearn.metrics import f1_score\n",
    "from sklearn.metrics import accuracy_score\n",
    "from sklearn import preprocessing\n",
    "import matplotlib.pyplot as plt\n",
    "from sklearn.tree import DecisionTreeClassifier\n",
    "from sklearn.svm import SVC\n",
    "from sklearn.ensemble import AdaBoostClassifier\n",
    "from sklearn.ensemble import RandomForestClassifier"
   ]
  },
  {
   "cell_type": "code",
   "execution_count": 53,
   "metadata": {},
   "outputs": [],
   "source": [
    "def loadData():\n",
    "    filename = \"IXIC.csv\"\n",
    "    with open(filename) as f:\n",
    "        lines = f.readlines()\n",
    "\n",
    "    data = []\n",
    "\n",
    "    for idx,line in enumerate(lines):\n",
    "        if idx > 0:\n",
    "            cols = line.strip().split(\",\")\n",
    "            open1 = float(cols[1])\n",
    "            high1 = float(cols[2])\n",
    "            low1 = float(cols[3])\n",
    "            close1 = float(cols[5])\n",
    "            volumn1 = float(cols[6])\n",
    "            d1 = (close1 - open1)/close1\n",
    "            d2 = (high1 - low1)/close1\n",
    "            d3 = (high1 - close1)/close1 \n",
    "            d4 = (close1 - low1)/close1\n",
    "            d5 = volumn1 / close1\n",
    "            #data.append([open1,high1,low1,close1,volumn1,d1,d2])\n",
    "            data.append([close1,d1,d2,d3,d4])\n",
    "    \n",
    "    return data"
   ]
  },
  {
   "cell_type": "code",
   "execution_count": 62,
   "metadata": {},
   "outputs": [],
   "source": [
    "def preProcessData(data):\n",
    "    global rr\n",
    "    \n",
    "    past_days = 5\n",
    "    col_num = len(data[0])\n",
    "    data = loadData()\n",
    "\n",
    "    next_all = data[1:]\n",
    "    today_all = data[0:-1]\n",
    "\n",
    "    next_all = np.array(next_all).reshape((len(next_all),col_num))\n",
    "    today_all = np.array(today_all).reshape((len(today_all),col_num))\n",
    "    \n",
    "    return_all = next_all / today_all - 1\n",
    "    \n",
    "    #計算一下所有return的平均值和最大最小值\n",
    "    r_all = return_all[:,0] #資料欄位有變時要改\n",
    "    \n",
    "    #m1 = np.min(r_all)\n",
    "    #m2 = np.max(r_all)\n",
    "    #print(m1,m2)\n",
    "    \n",
    "    ### 二元分類\n",
    "    #label_all = return_all[:,0] > 0 #取出close的return值，正值為True,負值為False\n",
    "    #label_all = label_all*1 #True轉為1,False轉為0\n",
    "\n",
    "    ### 三元分類\n",
    "    label_all = []\n",
    "    threshold = 0.03\n",
    "    cc = 0\n",
    "    dd = 0\n",
    "    ee = 0\n",
    "    for r in r_all:\n",
    "        if r > 0 and abs(r) > threshold:\n",
    "            cc += 1\n",
    "            label_all.append(\"up\")\n",
    "        elif r < 0 and abs(r) > threshold:\n",
    "            dd += 1\n",
    "            label_all.append(\"dn\")\n",
    "        else :\n",
    "            ee += 1\n",
    "            label_all.append(\"en\")\n",
    "\n",
    "    label_all = np.array(label_all).reshape(len(label_all),1)\n",
    "\n",
    "    print(len(r_all))\n",
    "    print('漲：',cc)\n",
    "    print('跌：',dd)\n",
    "    print('平：',ee,ee/len(r_all))\n",
    "    \n",
    "    \n",
    "    ### nolmalize\n",
    "    #scaler_x = preprocessing.MinMaxScaler(feature_range=( -1, 1))\n",
    "    #today_all = scaler_x.fit_transform(today_all)\n",
    "    #print(today_all.shape)\n",
    "    \n",
    "    X_all = []\n",
    "    for i in range(len(today_all)-past_days):\n",
    "        series_data = today_all[i:i+past_days,1:] ############## 選部分欄位\n",
    "        series_data_to_one_record = series_data.flatten()\n",
    "        X_all.append(series_data_to_one_record)\n",
    "    \n",
    "    y_all = label_all[past_days:,]\n",
    "    rr = r_all[past_days:]\n",
    "    \n",
    "    X_all = np.array(X_all).reshape(len(X_all),past_days*(col_num-1))\n",
    "    y_all = y_all.reshape(len(y_all),1) #三元分類要改3\n",
    "\n",
    "    #print(today_all.shape)\n",
    "    #print(X_all.shape)\n",
    "    #print(y_all.shape)\n",
    "    \n",
    "    return(X_all,y_all)"
   ]
  },
  {
   "cell_type": "code",
   "execution_count": 63,
   "metadata": {},
   "outputs": [],
   "source": [
    "def show_detail(y_pred,y_label):\n",
    "    global rr\n",
    "    \n",
    "    c = 0\n",
    "    print(len(y_pred),len(y_label),len(rr))\n",
    "    for i,pred in enumerate(y_pred):\n",
    "        if y_label[i] == 'en':\n",
    "            c += 1\n",
    "        if pred != 'en':\n",
    "            print(rr[i],pred,y_label[i])\n",
    "            \n",
    "    print('測試集中平盤占比:',c/len(y_pred)*100)"
   ]
  },
  {
   "cell_type": "code",
   "execution_count": 64,
   "metadata": {},
   "outputs": [
    {
     "name": "stdout",
     "output_type": "stream",
     "text": [
      "8625\n",
      "漲： 173\n",
      "跌： 200\n",
      "平： 8252 0.9567536231884058\n"
     ]
    },
    {
     "name": "stderr",
     "output_type": "stream",
     "text": [
      "/anaconda3/lib/python3.6/site-packages/ipykernel_launcher.py:14: RuntimeWarning: divide by zero encountered in true_divide\n",
      "  \n",
      "/anaconda3/lib/python3.6/site-packages/ipykernel_launcher.py:14: RuntimeWarning: invalid value encountered in true_divide\n",
      "  \n"
     ]
    }
   ],
   "source": [
    "#拆資料\n",
    "rr = []\n",
    "test_size = 0.2\n",
    "\n",
    "data = loadData()\n",
    "X_all, y_all = preProcessData(data) \n",
    "\n",
    "#print(len(X_all))\n",
    "#print(len(y_all))\n",
    "\n",
    "train_size = int(len(X_all)*(1-test_size))\n",
    "X_train = X_all[0:train_size] \n",
    "X_test = X_all[train_size:]\n",
    "y_train = y_all[0:train_size]\n",
    "y_test = y_all[train_size:]\n",
    "    \n",
    "rr = rr[train_size:]\n",
    "#print(today_all.shape)\n",
    "#print(X_train.shape)\n",
    "#print(y_train.shape)\n",
    "\n",
    "#X_train, X_test, y_train, y_test = train_test_split(X_all, y_all, test_size=test_size, random_state=42)"
   ]
  },
  {
   "cell_type": "code",
   "execution_count": 65,
   "metadata": {},
   "outputs": [
    {
     "data": {
      "image/png": "[encoded data removed]",
      "text/plain": [
       "<matplotlib.figure.Figure at 0x1a137172b0>"
      ]
     },
     "metadata": {
      "needs_background": "light"
     },
     "output_type": "display_data"
    }
   ],
   "source": [
    "import matplotlib.pyplot as plt\n",
    "%matplotlib inline\n",
    "\n",
    "#plt.plot(X_train[:,0])\n",
    "#plt.plot(X_train[:,1])\n",
    "plt.plot(X_train[:,0])\n",
    "plt.plot(X_train[:,1])\n",
    "#plt.plot(X_train[:,2])\n",
    "#plt.plot(X_train[:,1])\n",
    "#plt.plot(y_train)\n",
    "plt.show()"
   ]
  },
  {
   "cell_type": "code",
   "execution_count": 69,
   "metadata": {
    "scrolled": true
   },
   "outputs": [
    {
     "name": "stdout",
     "output_type": "stream",
     "text": [
      "Training a SVC using a training set size of 6896. . .\n"
     ]
    },
    {
     "name": "stderr",
     "output_type": "stream",
     "text": [
      "/anaconda3/lib/python3.6/site-packages/sklearn/utils/validation.py:761: DataConversionWarning: A column-vector y was passed when a 1d array was expected. Please change the shape of y to (n_samples, ), for example using ravel().\n",
      "  y = column_or_1d(y, warn=True)\n",
      "/anaconda3/lib/python3.6/site-packages/sklearn/svm/base.py:196: FutureWarning: The default value of gamma will change from 'auto' to 'scale' in version 0.22 to account better for unscaled features. Set gamma explicitly to 'auto' or 'scale' to avoid this warning.\n",
      "  \"avoid this warning.\", FutureWarning)\n"
     ]
    },
    {
     "name": "stdout",
     "output_type": "stream",
     "text": [
      "1724 1724 1724\n",
      "測試集中平盤占比: 98.83990719257541\n",
      "Accuracy for training set: 0.9488.\n",
      "Accuracy for test set: 0.9884.\n"
     ]
    }
   ],
   "source": [
    "#clf = DecisionTreeClassifier()\n",
    "#clf = AdaBoostClassifier()\n",
    "#clf = RandomForestClassifier(criterion='entropy',n_estimators=300,max_depth=9,random_state=0)\n",
    "clf = SVC(decision_function_shape='ovo') \n",
    "print( \"Training a {} using a training set size of {}. . .\".format(clf.__class__.__name__, len(X_train)) )    \n",
    "\n",
    "clf.fit(X_train, y_train)\n",
    "    \n",
    "y_pred_train = clf.predict(X_train)\n",
    "y_pred_test = clf.predict(X_test)\n",
    "    \n",
    "show_detail(y_pred_test,y_test)\n",
    "\n",
    "score_train = accuracy_score(y_train, y_pred_train)\n",
    "score_test = accuracy_score(y_test, y_pred_test)\n",
    "    \n",
    "print( \"Accuracy for training set: {:.4f}.\".format(score_train) )\n",
    "print( \"Accuracy for test set: {:.4f}.\".format(score_test) )"
   ]
  },
  {
   "cell_type": "code",
   "execution_count": null,
   "metadata": {},
   "outputs": [],
   "source": []
  },
  {
   "cell_type": "code",
   "execution_count": null,
   "metadata": {},
   "outputs": [],
   "source": []
  }
 ],
 "metadata": {
  "anaconda-cloud": {},
  "kernelspec": {
   "display_name": "Python 3",
   "language": "python",
   "name": "python3"
  },
  "language_info": {
   "codemirror_mode": {
    "name": "ipython",
    "version": 3
   },
   "file_extension": ".py",
   "mimetype": "text/x-python",
   "name": "python",
   "nbconvert_exporter": "python",
   "pygments_lexer": "ipython3",
   "version": "3.7.1"
  }
 },
 "nbformat": 4,
 "nbformat_minor": 1
}
