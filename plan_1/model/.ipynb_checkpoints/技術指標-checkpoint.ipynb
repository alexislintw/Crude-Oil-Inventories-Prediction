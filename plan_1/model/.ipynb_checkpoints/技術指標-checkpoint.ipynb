{
 "cells": [
  {
   "cell_type": "code",
   "execution_count": 1,
   "metadata": {},
   "outputs": [],
   "source": [
    "import numpy\n",
    "import talib\n",
    "import pandas as pd\n",
    "#import matplotlib.pyplot as plt"
   ]
  },
  {
   "cell_type": "code",
   "execution_count": null,
   "metadata": {},
   "outputs": [],
   "source": [
    "df = pd.read_csv(\"../dataset/^TWII.csv\")\n",
    "open_ = df['Open'].values\n",
    "high = df['High'].values\n",
    "low = df['Low'].values\n",
    "close = df['Adj Close'].values"
   ]
  },
  {
   "cell_type": "code",
   "execution_count": null,
   "metadata": {},
   "outputs": [],
   "source": [
    "n = 20\n",
    "my_SMA = talib.SMA(close,timeperiod=n)\n",
    "my_ROC = talib.ROC(close,timeperiod=n)\n",
    "my_RSI = talib.RSI(close,timeperiod=n)\n",
    "k,d = talib.STOCH(high=high,low=low,close=close,fastk_period=9,\n",
    "                      slowk_period=3,\n",
    "                      slowk_matype=0,\n",
    "                      slowd_period=3,\n",
    "                      slowd_matype=0)"
   ]
  },
  {
   "cell_type": "code",
   "execution_count": 8,
   "metadata": {},
   "outputs": [],
   "source": [
    "filename = \"../dataset/^TWII.csv\"\n",
    "with open(filename) as f:\n",
    "    lines = f.readlines()\n",
    "\n",
    "data = []\n",
    "for idx,line in enumerate(lines):\n",
    "    if idx > 0 :\n",
    "        cols = line.strip().split(\",\")\n",
    "        #open1 = float(cols[1])\n",
    "        if cols[1] != 'null' and cols[2] != 'null' and cols[3] != 'null' and cols[5] != 'null' :\n",
    "            open1 = float(cols[1])\n",
    "            high1 = float(cols[2])\n",
    "            low1 = float(cols[3])\n",
    "            close1 = float(cols[5])\n",
    "            #volumn1 = float(cols[6])\n",
    "            data.append([open1,high1,low1,close1])\n",
    "data = numpy.array(data)"
   ]
  },
  {
   "cell_type": "code",
   "execution_count": 9,
   "metadata": {},
   "outputs": [
    {
     "name": "stdout",
     "output_type": "stream",
     "text": [
      "(5325, 4)\n"
     ]
    }
   ],
   "source": [
    "print(data.shape)"
   ]
  },
  {
   "cell_type": "code",
   "execution_count": 10,
   "metadata": {},
   "outputs": [],
   "source": [
    "high = data[:,1]\n",
    "low = data[:,2]\n",
    "close = data[:,3]"
   ]
  },
  {
   "cell_type": "code",
   "execution_count": 12,
   "metadata": {},
   "outputs": [],
   "source": [
    "trend = []\n",
    "for idx, c in enumerate(close):\n",
    "    if idx < len(close) - 1:\n",
    "        if close[idx+1] > c:\n",
    "            trend.append(1)\n",
    "        else :\n",
    "            trend.append(0)\n",
    "    else :\n",
    "        trend.append(-1)"
   ]
  },
  {
   "cell_type": "code",
   "execution_count": 11,
   "metadata": {},
   "outputs": [],
   "source": [
    "RSI1 = talib.RSI(close,timeperiod=20)\n",
    "RSI2 = talib.RSI(close,timeperiod=60)\n",
    "RSI3 = talib.RSI(close,timeperiod=120)\n",
    "RSI4 = talib.RSI(close,timeperiod=200)"
   ]
  },
  {
   "cell_type": "code",
   "execution_count": 6,
   "metadata": {},
   "outputs": [],
   "source": [
    "n = 200\n",
    "SMA = talib.SMA(close,timeperiod=n)\n",
    "ROC = talib.ROC(close,timeperiod=n)\n",
    "RSI = talib.RSI(close,timeperiod=n)\n",
    "K,D = talib.STOCH(high=high,low=low,close=close,fastk_period=9,\n",
    "                      slowk_period=3,\n",
    "                      slowk_matype=0,\n",
    "                      slowd_period=3,\n",
    "                      slowd_matype=0)"
   ]
  },
  {
   "cell_type": "code",
   "execution_count": 13,
   "metadata": {},
   "outputs": [],
   "source": [
    "with open('../dataset/TWII_RSI_.csv','w') as file:\n",
    "    for i,d in enumerate(data):\n",
    "        #line = str(close[i]) + \",\" + str(SMA[i]) + \",\" + str(ROC[i]) + \",\" + str(RSI[i]) + \",\" + str(K[i]) + \",\" + str(D[i]) + \",\" + str(trend[i])\n",
    "        line = str(RSI1[i]) + \",\" + str(RSI2[i]) + \",\" + str(RSI3[i]) + \",\" + str(RSI4[i]) + \",\" + str(trend[i])\n",
    "        file.write(line)\n",
    "        file.write('\\n')\n",
    "file.close()"
   ]
  },
  {
   "cell_type": "code",
   "execution_count": null,
   "metadata": {},
   "outputs": [],
   "source": []
  }
 ],
 "metadata": {
  "kernelspec": {
   "display_name": "Python 3",
   "language": "python",
   "name": "python3"
  },
  "language_info": {
   "codemirror_mode": {
    "name": "ipython",
    "version": 3
   },
   "file_extension": ".py",
   "mimetype": "text/x-python",
   "name": "python",
   "nbconvert_exporter": "python",
   "pygments_lexer": "ipython3",
   "version": "3.7.1"
  }
 },
 "nbformat": 4,
 "nbformat_minor": 2
}
