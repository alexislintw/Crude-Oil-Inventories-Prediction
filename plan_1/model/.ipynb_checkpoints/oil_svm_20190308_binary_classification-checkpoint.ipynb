{
 "cells": [
  {
   "cell_type": "markdown",
   "metadata": {},
   "source": [
    "- oil (1982/8/20 ~ 今 )\n",
    "- 用6個數值預測隔週存貨漲跌\n",
    "- 前80%做training set (非亂數)\n",
    "- SVM 2元分類\n",
    "- 指標值分2類"
   ]
  },
  {
   "cell_type": "code",
   "execution_count": 1,
   "metadata": {},
   "outputs": [],
   "source": [
    "import numpy as np\n",
    "import pandas as pd\n",
    "from time import time\n",
    "from sklearn.model_selection import train_test_split\n",
    "from sklearn.metrics import f1_score\n",
    "from sklearn.metrics import accuracy_score\n",
    "from sklearn import preprocessing"
   ]
  },
  {
   "cell_type": "code",
   "execution_count": 2,
   "metadata": {},
   "outputs": [
    {
     "name": "stdout",
     "output_type": "stream",
     "text": [
      "(457, 6)\n",
      "(457,)\n",
      "[1 1 0 0 0 1 1 0 0 0]\n"
     ]
    }
   ],
   "source": [
    "#filename = \"../dataset/oil_from_19820820.csv\"\n",
    "#filename = \"../dataset/oil_from_19900105.csv\"\n",
    "filename = \"../dataset/oil_from_20100604.csv\"\n",
    "df = pd.read_csv(filename)\n",
    "y_all = df['6C'].values\n",
    "x_all = df.drop(['Date','6C','6D'], 1)\n",
    "x_all = np.array(x_all)\n",
    "y_all = np.array(y_all)\n",
    "print(x_all.shape)\n",
    "print(y_all.shape)\n",
    "print(y_all[0:10])"
   ]
  },
  {
   "cell_type": "code",
   "execution_count": 3,
   "metadata": {},
   "outputs": [],
   "source": [
    "def train_predict(clf, X_train, y_train, X_test, y_test):\n",
    "    \n",
    "    print( \"Training a {} using a training set size of {}. . .\".format(clf.__class__.__name__, len(X_train)) )    \n",
    "    clf.fit(X_train, y_train)\n",
    "    \n",
    "    y_pred_train = clf.predict(X_train)\n",
    "    y_pred_test = clf.predict(X_test)\n",
    "    score_train = accuracy_score(y_train, y_pred_train)\n",
    "    score_test = accuracy_score(y_test, y_pred_test)\n",
    "    \n",
    "    print( \"Accuracy for training set: {:.4f}.\".format(score_train) )\n",
    "    print( \"Accuracy for test set: {:.4f}.\".format(score_test) )\n",
    "    \n",
    "    #more_detail(y_pred_train,y_train)\n",
    "    #more_detail(y_pred_test,y_test)"
   ]
  },
  {
   "cell_type": "code",
   "execution_count": 4,
   "metadata": {},
   "outputs": [
    {
     "name": "stdout",
     "output_type": "stream",
     "text": [
      "(457, 6)\n",
      "(457,)\n"
     ]
    }
   ],
   "source": [
    "#拆資料\n",
    "test_size = 0.2\n",
    "\n",
    "print(x_all.shape)\n",
    "print(y_all.shape)\n",
    "\n",
    "train_size = int(len(x_all)*(1-test_size))\n",
    "X_train = x_all[0:train_size] \n",
    "X_test = x_all[train_size:]\n",
    "y_train = y_all[0:train_size]\n",
    "y_test = y_all[train_size:]\n",
    "X_train, XX_test, y_train, yy_test = train_test_split(X_train, y_train, test_size=0, random_state=42)"
   ]
  },
  {
   "cell_type": "code",
   "execution_count": 5,
   "metadata": {},
   "outputs": [
    {
     "name": "stdout",
     "output_type": "stream",
     "text": [
      "(365, 6)\n",
      "(92, 6)\n"
     ]
    }
   ],
   "source": [
    "print(X_train.shape)\n",
    "print(X_test.shape)"
   ]
  },
  {
   "cell_type": "code",
   "execution_count": 6,
   "metadata": {
    "scrolled": true
   },
   "outputs": [
    {
     "name": "stdout",
     "output_type": "stream",
     "text": [
      "Training a GaussianNB using a training set size of 365. . .\n",
      "Accuracy for training set: 0.6384.\n",
      "Accuracy for test set: 0.6413.\n",
      "\n",
      "\n",
      "Training a DecisionTreeClassifier using a training set size of 365. . .\n",
      "Accuracy for training set: 0.7041.\n",
      "Accuracy for test set: 0.6739.\n",
      "\n",
      "\n",
      "Training a SVC using a training set size of 365. . .\n",
      "Accuracy for training set: 0.6384.\n",
      "Accuracy for test set: 0.6957.\n",
      "\n",
      "\n",
      "Training a AdaBoostClassifier using a training set size of 365. . .\n",
      "Accuracy for training set: 0.6575.\n",
      "Accuracy for test set: 0.6848.\n",
      "\n",
      "\n",
      "Training a RandomForestClassifier using a training set size of 365. . .\n"
     ]
    },
    {
     "name": "stderr",
     "output_type": "stream",
     "text": [
      "/Users/alexis/anaconda3/lib/python3.7/site-packages/sklearn/svm/base.py:196: FutureWarning: The default value of gamma will change from 'auto' to 'scale' in version 0.22 to account better for unscaled features. Set gamma explicitly to 'auto' or 'scale' to avoid this warning.\n",
      "  \"avoid this warning.\", FutureWarning)\n"
     ]
    },
    {
     "name": "stdout",
     "output_type": "stream",
     "text": [
      "Accuracy for training set: 0.7041.\n",
      "Accuracy for test set: 0.6739.\n",
      "\n",
      "\n"
     ]
    }
   ],
   "source": [
    "from sklearn.naive_bayes import GaussianNB\n",
    "from sklearn.tree import DecisionTreeClassifier\n",
    "from sklearn.svm import SVC\n",
    "from sklearn.ensemble import AdaBoostClassifier\n",
    "from sklearn.ensemble import RandomForestClassifier\n",
    "\n",
    "rand = 42\n",
    "\n",
    "clf_A = GaussianNB()\n",
    "clf_B = DecisionTreeClassifier()\n",
    "clf_C = SVC() \n",
    "clf_D = AdaBoostClassifier()\n",
    "clf_E = RandomForestClassifier(criterion='entropy',n_estimators=300,max_depth=9, random_state=0)\n",
    "\n",
    "for clf in [clf_A,clf_B,clf_C,clf_D,clf_E]:\n",
    "    train_predict(clf, X_train, y_train, X_test, y_test)\n",
    "    print( '\\n' )"
   ]
  },
  {
   "cell_type": "code",
   "execution_count": null,
   "metadata": {},
   "outputs": [],
   "source": []
  }
 ],
 "metadata": {
  "anaconda-cloud": {},
  "kernelspec": {
   "display_name": "Python 3",
   "language": "python",
   "name": "python3"
  },
  "language_info": {
   "codemirror_mode": {
    "name": "ipython",
    "version": 3
   },
   "file_extension": ".py",
   "mimetype": "text/x-python",
   "name": "python",
   "nbconvert_exporter": "python",
   "pygments_lexer": "ipython3",
   "version": "3.7.1"
  }
 },
 "nbformat": 4,
 "nbformat_minor": 1
}
